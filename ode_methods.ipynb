{
 "cells": [
  {
   
   "cell_type": "markdown",
   "metadata": {
    "collapsed": false
   },
   "source": [
    "#### First order differential equation solution approximations\n",
    "\n",
    "In this classwork we saw a couple of examples of procedures that could approximate a the solution to a first order ordinary differential equation.\n",
    "\n",
    "All of the methods described rely on a solution to the equation being able to be approximated by a series that depends on the function we want $u(t)$ and it's first derivative. The equation we were explicitly looking at was:\n",
    "$$ u'(t) = f[u,t] $$\n",
    "Where $f$ was an arbitrary expression using $u$ and $t$.\n",
    "\n",
    "All of the methods that we looked at consisted of giving a list of points that would be close to the function that we would want to evaluate at a given $t$. The first method of approximation was Euler's method.\n",
    "$$ u_{k+1} = u_k + \\Delta t f[u_k,t_k] $$\n",
    "This method is based on the assumption that at a point $(t,u(t))$ the function will \"travel along the tangent line\" to get to $(t+\\Delta t,u(t+\\Delta t)).$ Since we know what the slope of the tangent line at that point is (the derivative of $u$, also known as $f[u,t]$) then for a small enough value of $\\Delta t$ we should be able to approximate the function.\n",
    "\n",
    "This method is quite coarse, however, and it requires very fine $\\Delta t$ to be able to be affective for approximating a function (particularly if the derivative varies greatly.) The second is a little bit better: The midpoint method\n",
    "$$ u_{k+1} = u_{k-1} + 2\\Delta t f[u_k,t_k] $$\n",
    "This again, has to do with traveling along a tangent line but it supposes that we travel from the point before to the point after given the slope at the point we are at. This does better than Euler's approximation. The next method was the trapezoid method:\n",
    "$$ u^*_{k+1} = u_k + \\Delta t f[u_k,t_k] $$\n",
    "$$ u_{k+1} = u_k + \\frac{\\Delta t}{2}(f[u_k,t_k] + f[u^*_{k+1},t_k])$$\n",
    "This method averages the slope that is obtained using Euler's approximation with the slope obtained from evaluating the slope at the point given by Euler's approximation. This essentially is adding in some error correction to Euler's method by smoothing out the slope function that we obtain from Euler's method.\n",
    "The next two were called Runge-Kutta Methods, which are of a class of algorithms used to approximate ode's. The first was the 2-nd order and the second was the 4-th order. Given as:\n",
    "$$ u_{k+1} = u_k + K_2 $$\n",
    "$$ K_1 = \\Delta t\\, f[t_k, u_k] $$ \n",
    "$$ K_2 = \\Delta t\\, f[t_k + \\Delta t/2, u_k + K_1/2] $$\n",
    "and for the 4-th order:\n",
    "$$ u_{k+1} = u_k + (K_1 + 2K_2 + 2K_3 + K_4)/6 $$\n",
    "$$ K_1 = \\Delta t\\,f[t_k,u_k] $$\n",
    "$$ K_2 = \\Delta t\\, f[t_k + \\Delta t/2, u_k + K_1/2] $$\n",
    "$$ K_3 = \\Delta t\\, f[t_k + \\Delta t/2, u_k + K_2/2] $$\n",
    "$$ K_4 = \\Delta t\\,f[t_k + \\Delta t, u_k + K_3] $$\n",
    "\n",
    "The second order differs from the trapezoid method by using the error correction in the actual evaluation of $u'(t)$. It uses the $K_1$ term to find a slight change in the derivative and then uses that to predict the change in the derivative in the future (in a sense.)\n",
    "\n",
    "The forth order approximation expands on this idea but includes weighting factors in the changes that it generates. It takes an average of all of the computed change terms and then weights them accordingly. I do not know the full reason as to why there would be greater weight on th middle terms but my hunch is that it has to do with how much we are straying from the point we are expanding around. In the formulae we see that there are more fine changes that are added in $K_2$ and $K_3$ so then they would correspond to spots closer to the point we are examining than the other terms. That's the hunch at least.\n",
    "\n",
    "So there they are, they can tell us a little bit about equations that we don't know how to solve."
   ]
  },
  {
   "cell_type": "code",
   "execution_count": 0,
   "metadata": {
    "collapsed": false
   },
   "outputs": [
   ],
   "source": [
   ]
  }
 ],
 "metadata": {
  "kernelspec": {
   "display_name": "Python 3 (Anaconda 5)",
   "language": "python",
   "name": "anaconda5"
  }
 },
 "nbformat": 4,
 "nbformat_minor": 0
}
